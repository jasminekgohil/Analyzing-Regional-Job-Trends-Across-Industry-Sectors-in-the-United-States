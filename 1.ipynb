{
  "nbformat": 4,
  "nbformat_minor": 0,
  "metadata": {
    "colab": {
      "provenance": [],
      "include_colab_link": true
    },
    "kernelspec": {
      "name": "python3",
      "display_name": "Python 3"
    },
    "language_info": {
      "name": "python"
    }
  },
  "cells": [
    {
      "cell_type": "markdown",
      "metadata": {
        "id": "view-in-github",
        "colab_type": "text"
      },
      "source": [
        "<a href=\"https://colab.research.google.com/github/jasminekgohil/Analyzing-Regional-Job-Trends-Across-Industry-Sectors-in-the-United-States/blob/main/1.ipynb\" target=\"_parent\"><img src=\"https://colab.research.google.com/assets/colab-badge.svg\" alt=\"Open In Colab\"/></a>"
      ]
    },
    {
      "cell_type": "markdown",
      "source": [
        "## BA820 Project: OkCupid Profiles"
      ],
      "metadata": {
        "id": "jhgyxUgQjGsF"
      }
    },
    {
      "cell_type": "code",
      "execution_count": 2,
      "metadata": {
        "colab": {
          "base_uri": "https://localhost:8080/"
        },
        "id": "x0NTSrmVi8_n",
        "outputId": "efbd2dde-b6bd-4d76-87d9-8cfc9be8440f"
      },
      "outputs": [
        {
          "output_type": "stream",
          "name": "stdout",
          "text": [
            "Collecting googlemaps\n",
            "  Downloading googlemaps-4.10.0.tar.gz (33 kB)\n",
            "  Preparing metadata (setup.py) ... \u001b[?25l\u001b[?25hdone\n",
            "Requirement already satisfied: requests<3.0,>=2.20.0 in /usr/local/lib/python3.10/dist-packages (from googlemaps) (2.31.0)\n",
            "Requirement already satisfied: charset-normalizer<4,>=2 in /usr/local/lib/python3.10/dist-packages (from requests<3.0,>=2.20.0->googlemaps) (3.3.2)\n",
            "Requirement already satisfied: idna<4,>=2.5 in /usr/local/lib/python3.10/dist-packages (from requests<3.0,>=2.20.0->googlemaps) (3.6)\n",
            "Requirement already satisfied: urllib3<3,>=1.21.1 in /usr/local/lib/python3.10/dist-packages (from requests<3.0,>=2.20.0->googlemaps) (2.0.7)\n",
            "Requirement already satisfied: certifi>=2017.4.17 in /usr/local/lib/python3.10/dist-packages (from requests<3.0,>=2.20.0->googlemaps) (2024.2.2)\n",
            "Building wheels for collected packages: googlemaps\n",
            "  Building wheel for googlemaps (setup.py) ... \u001b[?25l\u001b[?25hdone\n",
            "  Created wheel for googlemaps: filename=googlemaps-4.10.0-py3-none-any.whl size=40711 sha256=de16f3851ed4c6984ca00471a9426b1495751baf6e3ca938a4c967536573dddb\n",
            "  Stored in directory: /root/.cache/pip/wheels/17/f8/79/999d5d37118fd35d7219ef57933eb9d09886c4c4503a800f84\n",
            "Successfully built googlemaps\n",
            "Installing collected packages: googlemaps\n",
            "Successfully installed googlemaps-4.10.0\n",
            "Mounted at /content/drive\n"
          ]
        }
      ],
      "source": [
        "# Importing libraries and mounting the drive\n",
        "\n",
        "import pandas as pd\n",
        "import numpy as np\n",
        "import matplotlib.pyplot as plt\n",
        "from google.colab import drive\n",
        "import seaborn as sns\n",
        "import statsmodels.formula.api as smf\n",
        "from sklearn.cluster import KMeans\n",
        "from sklearn.preprocessing import StandardScaler\n",
        "!pip install -U googlemaps\n",
        "drive.mount('/content/drive')\n",
        "data_folder = '/content/drive/MyDrive/Colab Notebooks/BA820/Data/'"
      ]
    },
    {
      "cell_type": "code",
      "source": [
        "data = pd.read_csv(data_folder+'okcupid_profiles.csv')"
      ],
      "metadata": {
        "id": "uuxx9vanjZ-t"
      },
      "execution_count": 3,
      "outputs": []
    },
    {
      "cell_type": "code",
      "source": [
        "data.info()"
      ],
      "metadata": {
        "colab": {
          "base_uri": "https://localhost:8080/"
        },
        "id": "-3ngjERIjajN",
        "outputId": "c7320e96-945a-4917-93dd-202e2e9efcc6"
      },
      "execution_count": 4,
      "outputs": [
        {
          "output_type": "stream",
          "name": "stdout",
          "text": [
            "<class 'pandas.core.frame.DataFrame'>\n",
            "RangeIndex: 59946 entries, 0 to 59945\n",
            "Data columns (total 31 columns):\n",
            " #   Column       Non-Null Count  Dtype  \n",
            "---  ------       --------------  -----  \n",
            " 0   age          59946 non-null  int64  \n",
            " 1   status       59946 non-null  object \n",
            " 2   sex          59946 non-null  object \n",
            " 3   orientation  59946 non-null  object \n",
            " 4   body_type    54650 non-null  object \n",
            " 5   diet         35551 non-null  object \n",
            " 6   drinks       56961 non-null  object \n",
            " 7   drugs        45866 non-null  object \n",
            " 8   education    53318 non-null  object \n",
            " 9   ethnicity    54266 non-null  object \n",
            " 10  height       59943 non-null  float64\n",
            " 11  income       59946 non-null  int64  \n",
            " 12  job          51748 non-null  object \n",
            " 13  last_online  59946 non-null  object \n",
            " 14  location     59946 non-null  object \n",
            " 15  offspring    24385 non-null  object \n",
            " 16  pets         40025 non-null  object \n",
            " 17  religion     39720 non-null  object \n",
            " 18  sign         48890 non-null  object \n",
            " 19  smokes       54434 non-null  object \n",
            " 20  speaks       59896 non-null  object \n",
            " 21  essay0       54458 non-null  object \n",
            " 22  essay1       52374 non-null  object \n",
            " 23  essay2       50308 non-null  object \n",
            " 24  essay3       48470 non-null  object \n",
            " 25  essay4       49409 non-null  object \n",
            " 26  essay5       49096 non-null  object \n",
            " 27  essay6       46175 non-null  object \n",
            " 28  essay7       47495 non-null  object \n",
            " 29  essay8       40721 non-null  object \n",
            " 30  essay9       47343 non-null  object \n",
            "dtypes: float64(1), int64(2), object(28)\n",
            "memory usage: 14.2+ MB\n"
          ]
        }
      ]
    },
    {
      "cell_type": "code",
      "source": [
        "data.describe()"
      ],
      "metadata": {
        "colab": {
          "base_uri": "https://localhost:8080/",
          "height": 300
        },
        "id": "UXwSqeTxjlAa",
        "outputId": "c722a3ff-943d-45ba-ed3b-01b67fe2a62e"
      },
      "execution_count": 5,
      "outputs": [
        {
          "output_type": "execute_result",
          "data": {
            "text/plain": [
              "                age        height          income\n",
              "count  59946.000000  59943.000000    59946.000000\n",
              "mean      32.340290     68.295281    20033.222534\n",
              "std        9.452779      3.994803    97346.192104\n",
              "min       18.000000      1.000000       -1.000000\n",
              "25%       26.000000     66.000000       -1.000000\n",
              "50%       30.000000     68.000000       -1.000000\n",
              "75%       37.000000     71.000000       -1.000000\n",
              "max      110.000000     95.000000  1000000.000000"
            ],
            "text/html": [
              "\n",
              "  <div id=\"df-d5f5377a-f484-4eb7-a567-b6dd877fb6c2\" class=\"colab-df-container\">\n",
              "    <div>\n",
              "<style scoped>\n",
              "    .dataframe tbody tr th:only-of-type {\n",
              "        vertical-align: middle;\n",
              "    }\n",
              "\n",
              "    .dataframe tbody tr th {\n",
              "        vertical-align: top;\n",
              "    }\n",
              "\n",
              "    .dataframe thead th {\n",
              "        text-align: right;\n",
              "    }\n",
              "</style>\n",
              "<table border=\"1\" class=\"dataframe\">\n",
              "  <thead>\n",
              "    <tr style=\"text-align: right;\">\n",
              "      <th></th>\n",
              "      <th>age</th>\n",
              "      <th>height</th>\n",
              "      <th>income</th>\n",
              "    </tr>\n",
              "  </thead>\n",
              "  <tbody>\n",
              "    <tr>\n",
              "      <th>count</th>\n",
              "      <td>59946.000000</td>\n",
              "      <td>59943.000000</td>\n",
              "      <td>59946.000000</td>\n",
              "    </tr>\n",
              "    <tr>\n",
              "      <th>mean</th>\n",
              "      <td>32.340290</td>\n",
              "      <td>68.295281</td>\n",
              "      <td>20033.222534</td>\n",
              "    </tr>\n",
              "    <tr>\n",
              "      <th>std</th>\n",
              "      <td>9.452779</td>\n",
              "      <td>3.994803</td>\n",
              "      <td>97346.192104</td>\n",
              "    </tr>\n",
              "    <tr>\n",
              "      <th>min</th>\n",
              "      <td>18.000000</td>\n",
              "      <td>1.000000</td>\n",
              "      <td>-1.000000</td>\n",
              "    </tr>\n",
              "    <tr>\n",
              "      <th>25%</th>\n",
              "      <td>26.000000</td>\n",
              "      <td>66.000000</td>\n",
              "      <td>-1.000000</td>\n",
              "    </tr>\n",
              "    <tr>\n",
              "      <th>50%</th>\n",
              "      <td>30.000000</td>\n",
              "      <td>68.000000</td>\n",
              "      <td>-1.000000</td>\n",
              "    </tr>\n",
              "    <tr>\n",
              "      <th>75%</th>\n",
              "      <td>37.000000</td>\n",
              "      <td>71.000000</td>\n",
              "      <td>-1.000000</td>\n",
              "    </tr>\n",
              "    <tr>\n",
              "      <th>max</th>\n",
              "      <td>110.000000</td>\n",
              "      <td>95.000000</td>\n",
              "      <td>1000000.000000</td>\n",
              "    </tr>\n",
              "  </tbody>\n",
              "</table>\n",
              "</div>\n",
              "    <div class=\"colab-df-buttons\">\n",
              "\n",
              "  <div class=\"colab-df-container\">\n",
              "    <button class=\"colab-df-convert\" onclick=\"convertToInteractive('df-d5f5377a-f484-4eb7-a567-b6dd877fb6c2')\"\n",
              "            title=\"Convert this dataframe to an interactive table.\"\n",
              "            style=\"display:none;\">\n",
              "\n",
              "  <svg xmlns=\"http://www.w3.org/2000/svg\" height=\"24px\" viewBox=\"0 -960 960 960\">\n",
              "    <path d=\"M120-120v-720h720v720H120Zm60-500h600v-160H180v160Zm220 220h160v-160H400v160Zm0 220h160v-160H400v160ZM180-400h160v-160H180v160Zm440 0h160v-160H620v160ZM180-180h160v-160H180v160Zm440 0h160v-160H620v160Z\"/>\n",
              "  </svg>\n",
              "    </button>\n",
              "\n",
              "  <style>\n",
              "    .colab-df-container {\n",
              "      display:flex;\n",
              "      gap: 12px;\n",
              "    }\n",
              "\n",
              "    .colab-df-convert {\n",
              "      background-color: #E8F0FE;\n",
              "      border: none;\n",
              "      border-radius: 50%;\n",
              "      cursor: pointer;\n",
              "      display: none;\n",
              "      fill: #1967D2;\n",
              "      height: 32px;\n",
              "      padding: 0 0 0 0;\n",
              "      width: 32px;\n",
              "    }\n",
              "\n",
              "    .colab-df-convert:hover {\n",
              "      background-color: #E2EBFA;\n",
              "      box-shadow: 0px 1px 2px rgba(60, 64, 67, 0.3), 0px 1px 3px 1px rgba(60, 64, 67, 0.15);\n",
              "      fill: #174EA6;\n",
              "    }\n",
              "\n",
              "    .colab-df-buttons div {\n",
              "      margin-bottom: 4px;\n",
              "    }\n",
              "\n",
              "    [theme=dark] .colab-df-convert {\n",
              "      background-color: #3B4455;\n",
              "      fill: #D2E3FC;\n",
              "    }\n",
              "\n",
              "    [theme=dark] .colab-df-convert:hover {\n",
              "      background-color: #434B5C;\n",
              "      box-shadow: 0px 1px 3px 1px rgba(0, 0, 0, 0.15);\n",
              "      filter: drop-shadow(0px 1px 2px rgba(0, 0, 0, 0.3));\n",
              "      fill: #FFFFFF;\n",
              "    }\n",
              "  </style>\n",
              "\n",
              "    <script>\n",
              "      const buttonEl =\n",
              "        document.querySelector('#df-d5f5377a-f484-4eb7-a567-b6dd877fb6c2 button.colab-df-convert');\n",
              "      buttonEl.style.display =\n",
              "        google.colab.kernel.accessAllowed ? 'block' : 'none';\n",
              "\n",
              "      async function convertToInteractive(key) {\n",
              "        const element = document.querySelector('#df-d5f5377a-f484-4eb7-a567-b6dd877fb6c2');\n",
              "        const dataTable =\n",
              "          await google.colab.kernel.invokeFunction('convertToInteractive',\n",
              "                                                    [key], {});\n",
              "        if (!dataTable) return;\n",
              "\n",
              "        const docLinkHtml = 'Like what you see? Visit the ' +\n",
              "          '<a target=\"_blank\" href=https://colab.research.google.com/notebooks/data_table.ipynb>data table notebook</a>'\n",
              "          + ' to learn more about interactive tables.';\n",
              "        element.innerHTML = '';\n",
              "        dataTable['output_type'] = 'display_data';\n",
              "        await google.colab.output.renderOutput(dataTable, element);\n",
              "        const docLink = document.createElement('div');\n",
              "        docLink.innerHTML = docLinkHtml;\n",
              "        element.appendChild(docLink);\n",
              "      }\n",
              "    </script>\n",
              "  </div>\n",
              "\n",
              "\n",
              "<div id=\"df-604137d7-b138-4706-8dd0-f62a2cac814f\">\n",
              "  <button class=\"colab-df-quickchart\" onclick=\"quickchart('df-604137d7-b138-4706-8dd0-f62a2cac814f')\"\n",
              "            title=\"Suggest charts\"\n",
              "            style=\"display:none;\">\n",
              "\n",
              "<svg xmlns=\"http://www.w3.org/2000/svg\" height=\"24px\"viewBox=\"0 0 24 24\"\n",
              "     width=\"24px\">\n",
              "    <g>\n",
              "        <path d=\"M19 3H5c-1.1 0-2 .9-2 2v14c0 1.1.9 2 2 2h14c1.1 0 2-.9 2-2V5c0-1.1-.9-2-2-2zM9 17H7v-7h2v7zm4 0h-2V7h2v10zm4 0h-2v-4h2v4z\"/>\n",
              "    </g>\n",
              "</svg>\n",
              "  </button>\n",
              "\n",
              "<style>\n",
              "  .colab-df-quickchart {\n",
              "      --bg-color: #E8F0FE;\n",
              "      --fill-color: #1967D2;\n",
              "      --hover-bg-color: #E2EBFA;\n",
              "      --hover-fill-color: #174EA6;\n",
              "      --disabled-fill-color: #AAA;\n",
              "      --disabled-bg-color: #DDD;\n",
              "  }\n",
              "\n",
              "  [theme=dark] .colab-df-quickchart {\n",
              "      --bg-color: #3B4455;\n",
              "      --fill-color: #D2E3FC;\n",
              "      --hover-bg-color: #434B5C;\n",
              "      --hover-fill-color: #FFFFFF;\n",
              "      --disabled-bg-color: #3B4455;\n",
              "      --disabled-fill-color: #666;\n",
              "  }\n",
              "\n",
              "  .colab-df-quickchart {\n",
              "    background-color: var(--bg-color);\n",
              "    border: none;\n",
              "    border-radius: 50%;\n",
              "    cursor: pointer;\n",
              "    display: none;\n",
              "    fill: var(--fill-color);\n",
              "    height: 32px;\n",
              "    padding: 0;\n",
              "    width: 32px;\n",
              "  }\n",
              "\n",
              "  .colab-df-quickchart:hover {\n",
              "    background-color: var(--hover-bg-color);\n",
              "    box-shadow: 0 1px 2px rgba(60, 64, 67, 0.3), 0 1px 3px 1px rgba(60, 64, 67, 0.15);\n",
              "    fill: var(--button-hover-fill-color);\n",
              "  }\n",
              "\n",
              "  .colab-df-quickchart-complete:disabled,\n",
              "  .colab-df-quickchart-complete:disabled:hover {\n",
              "    background-color: var(--disabled-bg-color);\n",
              "    fill: var(--disabled-fill-color);\n",
              "    box-shadow: none;\n",
              "  }\n",
              "\n",
              "  .colab-df-spinner {\n",
              "    border: 2px solid var(--fill-color);\n",
              "    border-color: transparent;\n",
              "    border-bottom-color: var(--fill-color);\n",
              "    animation:\n",
              "      spin 1s steps(1) infinite;\n",
              "  }\n",
              "\n",
              "  @keyframes spin {\n",
              "    0% {\n",
              "      border-color: transparent;\n",
              "      border-bottom-color: var(--fill-color);\n",
              "      border-left-color: var(--fill-color);\n",
              "    }\n",
              "    20% {\n",
              "      border-color: transparent;\n",
              "      border-left-color: var(--fill-color);\n",
              "      border-top-color: var(--fill-color);\n",
              "    }\n",
              "    30% {\n",
              "      border-color: transparent;\n",
              "      border-left-color: var(--fill-color);\n",
              "      border-top-color: var(--fill-color);\n",
              "      border-right-color: var(--fill-color);\n",
              "    }\n",
              "    40% {\n",
              "      border-color: transparent;\n",
              "      border-right-color: var(--fill-color);\n",
              "      border-top-color: var(--fill-color);\n",
              "    }\n",
              "    60% {\n",
              "      border-color: transparent;\n",
              "      border-right-color: var(--fill-color);\n",
              "    }\n",
              "    80% {\n",
              "      border-color: transparent;\n",
              "      border-right-color: var(--fill-color);\n",
              "      border-bottom-color: var(--fill-color);\n",
              "    }\n",
              "    90% {\n",
              "      border-color: transparent;\n",
              "      border-bottom-color: var(--fill-color);\n",
              "    }\n",
              "  }\n",
              "</style>\n",
              "\n",
              "  <script>\n",
              "    async function quickchart(key) {\n",
              "      const quickchartButtonEl =\n",
              "        document.querySelector('#' + key + ' button');\n",
              "      quickchartButtonEl.disabled = true;  // To prevent multiple clicks.\n",
              "      quickchartButtonEl.classList.add('colab-df-spinner');\n",
              "      try {\n",
              "        const charts = await google.colab.kernel.invokeFunction(\n",
              "            'suggestCharts', [key], {});\n",
              "      } catch (error) {\n",
              "        console.error('Error during call to suggestCharts:', error);\n",
              "      }\n",
              "      quickchartButtonEl.classList.remove('colab-df-spinner');\n",
              "      quickchartButtonEl.classList.add('colab-df-quickchart-complete');\n",
              "    }\n",
              "    (() => {\n",
              "      let quickchartButtonEl =\n",
              "        document.querySelector('#df-604137d7-b138-4706-8dd0-f62a2cac814f button');\n",
              "      quickchartButtonEl.style.display =\n",
              "        google.colab.kernel.accessAllowed ? 'block' : 'none';\n",
              "    })();\n",
              "  </script>\n",
              "</div>\n",
              "    </div>\n",
              "  </div>\n"
            ],
            "application/vnd.google.colaboratory.intrinsic+json": {
              "type": "dataframe",
              "summary": "{\n  \"name\": \"data\",\n  \"rows\": 8,\n  \"fields\": [\n    {\n      \"column\": \"age\",\n      \"properties\": {\n        \"dtype\": \"number\",\n        \"std\": 21180.860885312773,\n        \"min\": 9.452779096971726,\n        \"max\": 59946.0,\n        \"num_unique_values\": 8,\n        \"samples\": [\n          32.3402895939679,\n          30.0,\n          59946.0\n        ],\n        \"semantic_type\": \"\",\n        \"description\": \"\"\n      }\n    },\n    {\n      \"column\": \"height\",\n      \"properties\": {\n        \"dtype\": \"number\",\n        \"std\": 21174.223278120495,\n        \"min\": 1.0,\n        \"max\": 59943.0,\n        \"num_unique_values\": 8,\n        \"samples\": [\n          68.29528051649066,\n          68.0,\n          59943.0\n        ],\n        \"semantic_type\": \"\",\n        \"description\": \"\"\n      }\n    },\n    {\n      \"column\": \"income\",\n      \"properties\": {\n        \"dtype\": \"number\",\n        \"std\": 346453.54664323275,\n        \"min\": -1.0,\n        \"max\": 1000000.0,\n        \"num_unique_values\": 5,\n        \"samples\": [\n          20033.222533613585,\n          1000000.0,\n          97346.1921036873\n        ],\n        \"semantic_type\": \"\",\n        \"description\": \"\"\n      }\n    }\n  ]\n}"
            }
          },
          "metadata": {},
          "execution_count": 5
        }
      ]
    },
    {
      "cell_type": "code",
      "source": [
        "num_rows, num_columns = data.shape\n",
        "print(f\"Number of rows: {num_rows}\")\n",
        "print(f\"Number of columns: {num_columns}\")"
      ],
      "metadata": {
        "colab": {
          "base_uri": "https://localhost:8080/"
        },
        "id": "oK82EPC1jpQh",
        "outputId": "357ea5c0-fa53-4c01-84fd-a4a6f50ea9fc"
      },
      "execution_count": 6,
      "outputs": [
        {
          "output_type": "stream",
          "name": "stdout",
          "text": [
            "Number of rows: 59946\n",
            "Number of columns: 31\n"
          ]
        }
      ]
    },
    {
      "cell_type": "code",
      "source": [
        "data.corr()"
      ],
      "metadata": {
        "colab": {
          "base_uri": "https://localhost:8080/",
          "height": 198
        },
        "id": "BFtFKX8njtlC",
        "outputId": "0e0d3bd9-4e27-4d85-8a3a-278c9d997e4f"
      },
      "execution_count": 7,
      "outputs": [
        {
          "output_type": "stream",
          "name": "stderr",
          "text": [
            "<ipython-input-7-c44ded798807>:1: FutureWarning: The default value of numeric_only in DataFrame.corr is deprecated. In a future version, it will default to False. Select only valid columns or specify the value of numeric_only to silence this warning.\n",
            "  data.corr()\n"
          ]
        },
        {
          "output_type": "execute_result",
          "data": {
            "text/plain": [
              "             age    height    income\n",
              "age     1.000000 -0.022262 -0.001004\n",
              "height -0.022262  1.000000  0.065049\n",
              "income -0.001004  0.065049  1.000000"
            ],
            "text/html": [
              "\n",
              "  <div id=\"df-941b131e-32b2-41be-ac8b-91bb054de693\" class=\"colab-df-container\">\n",
              "    <div>\n",
              "<style scoped>\n",
              "    .dataframe tbody tr th:only-of-type {\n",
              "        vertical-align: middle;\n",
              "    }\n",
              "\n",
              "    .dataframe tbody tr th {\n",
              "        vertical-align: top;\n",
              "    }\n",
              "\n",
              "    .dataframe thead th {\n",
              "        text-align: right;\n",
              "    }\n",
              "</style>\n",
              "<table border=\"1\" class=\"dataframe\">\n",
              "  <thead>\n",
              "    <tr style=\"text-align: right;\">\n",
              "      <th></th>\n",
              "      <th>age</th>\n",
              "      <th>height</th>\n",
              "      <th>income</th>\n",
              "    </tr>\n",
              "  </thead>\n",
              "  <tbody>\n",
              "    <tr>\n",
              "      <th>age</th>\n",
              "      <td>1.000000</td>\n",
              "      <td>-0.022262</td>\n",
              "      <td>-0.001004</td>\n",
              "    </tr>\n",
              "    <tr>\n",
              "      <th>height</th>\n",
              "      <td>-0.022262</td>\n",
              "      <td>1.000000</td>\n",
              "      <td>0.065049</td>\n",
              "    </tr>\n",
              "    <tr>\n",
              "      <th>income</th>\n",
              "      <td>-0.001004</td>\n",
              "      <td>0.065049</td>\n",
              "      <td>1.000000</td>\n",
              "    </tr>\n",
              "  </tbody>\n",
              "</table>\n",
              "</div>\n",
              "    <div class=\"colab-df-buttons\">\n",
              "\n",
              "  <div class=\"colab-df-container\">\n",
              "    <button class=\"colab-df-convert\" onclick=\"convertToInteractive('df-941b131e-32b2-41be-ac8b-91bb054de693')\"\n",
              "            title=\"Convert this dataframe to an interactive table.\"\n",
              "            style=\"display:none;\">\n",
              "\n",
              "  <svg xmlns=\"http://www.w3.org/2000/svg\" height=\"24px\" viewBox=\"0 -960 960 960\">\n",
              "    <path d=\"M120-120v-720h720v720H120Zm60-500h600v-160H180v160Zm220 220h160v-160H400v160Zm0 220h160v-160H400v160ZM180-400h160v-160H180v160Zm440 0h160v-160H620v160ZM180-180h160v-160H180v160Zm440 0h160v-160H620v160Z\"/>\n",
              "  </svg>\n",
              "    </button>\n",
              "\n",
              "  <style>\n",
              "    .colab-df-container {\n",
              "      display:flex;\n",
              "      gap: 12px;\n",
              "    }\n",
              "\n",
              "    .colab-df-convert {\n",
              "      background-color: #E8F0FE;\n",
              "      border: none;\n",
              "      border-radius: 50%;\n",
              "      cursor: pointer;\n",
              "      display: none;\n",
              "      fill: #1967D2;\n",
              "      height: 32px;\n",
              "      padding: 0 0 0 0;\n",
              "      width: 32px;\n",
              "    }\n",
              "\n",
              "    .colab-df-convert:hover {\n",
              "      background-color: #E2EBFA;\n",
              "      box-shadow: 0px 1px 2px rgba(60, 64, 67, 0.3), 0px 1px 3px 1px rgba(60, 64, 67, 0.15);\n",
              "      fill: #174EA6;\n",
              "    }\n",
              "\n",
              "    .colab-df-buttons div {\n",
              "      margin-bottom: 4px;\n",
              "    }\n",
              "\n",
              "    [theme=dark] .colab-df-convert {\n",
              "      background-color: #3B4455;\n",
              "      fill: #D2E3FC;\n",
              "    }\n",
              "\n",
              "    [theme=dark] .colab-df-convert:hover {\n",
              "      background-color: #434B5C;\n",
              "      box-shadow: 0px 1px 3px 1px rgba(0, 0, 0, 0.15);\n",
              "      filter: drop-shadow(0px 1px 2px rgba(0, 0, 0, 0.3));\n",
              "      fill: #FFFFFF;\n",
              "    }\n",
              "  </style>\n",
              "\n",
              "    <script>\n",
              "      const buttonEl =\n",
              "        document.querySelector('#df-941b131e-32b2-41be-ac8b-91bb054de693 button.colab-df-convert');\n",
              "      buttonEl.style.display =\n",
              "        google.colab.kernel.accessAllowed ? 'block' : 'none';\n",
              "\n",
              "      async function convertToInteractive(key) {\n",
              "        const element = document.querySelector('#df-941b131e-32b2-41be-ac8b-91bb054de693');\n",
              "        const dataTable =\n",
              "          await google.colab.kernel.invokeFunction('convertToInteractive',\n",
              "                                                    [key], {});\n",
              "        if (!dataTable) return;\n",
              "\n",
              "        const docLinkHtml = 'Like what you see? Visit the ' +\n",
              "          '<a target=\"_blank\" href=https://colab.research.google.com/notebooks/data_table.ipynb>data table notebook</a>'\n",
              "          + ' to learn more about interactive tables.';\n",
              "        element.innerHTML = '';\n",
              "        dataTable['output_type'] = 'display_data';\n",
              "        await google.colab.output.renderOutput(dataTable, element);\n",
              "        const docLink = document.createElement('div');\n",
              "        docLink.innerHTML = docLinkHtml;\n",
              "        element.appendChild(docLink);\n",
              "      }\n",
              "    </script>\n",
              "  </div>\n",
              "\n",
              "\n",
              "<div id=\"df-fc2172aa-d953-4b0d-9a46-667e3bcdd2fd\">\n",
              "  <button class=\"colab-df-quickchart\" onclick=\"quickchart('df-fc2172aa-d953-4b0d-9a46-667e3bcdd2fd')\"\n",
              "            title=\"Suggest charts\"\n",
              "            style=\"display:none;\">\n",
              "\n",
              "<svg xmlns=\"http://www.w3.org/2000/svg\" height=\"24px\"viewBox=\"0 0 24 24\"\n",
              "     width=\"24px\">\n",
              "    <g>\n",
              "        <path d=\"M19 3H5c-1.1 0-2 .9-2 2v14c0 1.1.9 2 2 2h14c1.1 0 2-.9 2-2V5c0-1.1-.9-2-2-2zM9 17H7v-7h2v7zm4 0h-2V7h2v10zm4 0h-2v-4h2v4z\"/>\n",
              "    </g>\n",
              "</svg>\n",
              "  </button>\n",
              "\n",
              "<style>\n",
              "  .colab-df-quickchart {\n",
              "      --bg-color: #E8F0FE;\n",
              "      --fill-color: #1967D2;\n",
              "      --hover-bg-color: #E2EBFA;\n",
              "      --hover-fill-color: #174EA6;\n",
              "      --disabled-fill-color: #AAA;\n",
              "      --disabled-bg-color: #DDD;\n",
              "  }\n",
              "\n",
              "  [theme=dark] .colab-df-quickchart {\n",
              "      --bg-color: #3B4455;\n",
              "      --fill-color: #D2E3FC;\n",
              "      --hover-bg-color: #434B5C;\n",
              "      --hover-fill-color: #FFFFFF;\n",
              "      --disabled-bg-color: #3B4455;\n",
              "      --disabled-fill-color: #666;\n",
              "  }\n",
              "\n",
              "  .colab-df-quickchart {\n",
              "    background-color: var(--bg-color);\n",
              "    border: none;\n",
              "    border-radius: 50%;\n",
              "    cursor: pointer;\n",
              "    display: none;\n",
              "    fill: var(--fill-color);\n",
              "    height: 32px;\n",
              "    padding: 0;\n",
              "    width: 32px;\n",
              "  }\n",
              "\n",
              "  .colab-df-quickchart:hover {\n",
              "    background-color: var(--hover-bg-color);\n",
              "    box-shadow: 0 1px 2px rgba(60, 64, 67, 0.3), 0 1px 3px 1px rgba(60, 64, 67, 0.15);\n",
              "    fill: var(--button-hover-fill-color);\n",
              "  }\n",
              "\n",
              "  .colab-df-quickchart-complete:disabled,\n",
              "  .colab-df-quickchart-complete:disabled:hover {\n",
              "    background-color: var(--disabled-bg-color);\n",
              "    fill: var(--disabled-fill-color);\n",
              "    box-shadow: none;\n",
              "  }\n",
              "\n",
              "  .colab-df-spinner {\n",
              "    border: 2px solid var(--fill-color);\n",
              "    border-color: transparent;\n",
              "    border-bottom-color: var(--fill-color);\n",
              "    animation:\n",
              "      spin 1s steps(1) infinite;\n",
              "  }\n",
              "\n",
              "  @keyframes spin {\n",
              "    0% {\n",
              "      border-color: transparent;\n",
              "      border-bottom-color: var(--fill-color);\n",
              "      border-left-color: var(--fill-color);\n",
              "    }\n",
              "    20% {\n",
              "      border-color: transparent;\n",
              "      border-left-color: var(--fill-color);\n",
              "      border-top-color: var(--fill-color);\n",
              "    }\n",
              "    30% {\n",
              "      border-color: transparent;\n",
              "      border-left-color: var(--fill-color);\n",
              "      border-top-color: var(--fill-color);\n",
              "      border-right-color: var(--fill-color);\n",
              "    }\n",
              "    40% {\n",
              "      border-color: transparent;\n",
              "      border-right-color: var(--fill-color);\n",
              "      border-top-color: var(--fill-color);\n",
              "    }\n",
              "    60% {\n",
              "      border-color: transparent;\n",
              "      border-right-color: var(--fill-color);\n",
              "    }\n",
              "    80% {\n",
              "      border-color: transparent;\n",
              "      border-right-color: var(--fill-color);\n",
              "      border-bottom-color: var(--fill-color);\n",
              "    }\n",
              "    90% {\n",
              "      border-color: transparent;\n",
              "      border-bottom-color: var(--fill-color);\n",
              "    }\n",
              "  }\n",
              "</style>\n",
              "\n",
              "  <script>\n",
              "    async function quickchart(key) {\n",
              "      const quickchartButtonEl =\n",
              "        document.querySelector('#' + key + ' button');\n",
              "      quickchartButtonEl.disabled = true;  // To prevent multiple clicks.\n",
              "      quickchartButtonEl.classList.add('colab-df-spinner');\n",
              "      try {\n",
              "        const charts = await google.colab.kernel.invokeFunction(\n",
              "            'suggestCharts', [key], {});\n",
              "      } catch (error) {\n",
              "        console.error('Error during call to suggestCharts:', error);\n",
              "      }\n",
              "      quickchartButtonEl.classList.remove('colab-df-spinner');\n",
              "      quickchartButtonEl.classList.add('colab-df-quickchart-complete');\n",
              "    }\n",
              "    (() => {\n",
              "      let quickchartButtonEl =\n",
              "        document.querySelector('#df-fc2172aa-d953-4b0d-9a46-667e3bcdd2fd button');\n",
              "      quickchartButtonEl.style.display =\n",
              "        google.colab.kernel.accessAllowed ? 'block' : 'none';\n",
              "    })();\n",
              "  </script>\n",
              "</div>\n",
              "    </div>\n",
              "  </div>\n"
            ],
            "application/vnd.google.colaboratory.intrinsic+json": {
              "type": "dataframe",
              "summary": "{\n  \"name\": \"data\",\n  \"rows\": 3,\n  \"fields\": [\n    {\n      \"column\": \"age\",\n      \"properties\": {\n        \"dtype\": \"number\",\n        \"std\": 0.584163126290005,\n        \"min\": -0.022261595235370097,\n        \"max\": 1.0,\n        \"num_unique_values\": 3,\n        \"samples\": [\n          1.0,\n          -0.022261595235370097,\n          -0.0010038398754361189\n        ],\n        \"semantic_type\": \"\",\n        \"description\": \"\"\n      }\n    },\n    {\n      \"column\": \"height\",\n      \"properties\": {\n        \"dtype\": \"number\",\n        \"std\": 0.5666826484142989,\n        \"min\": -0.022261595235370097,\n        \"max\": 1.0,\n        \"num_unique_values\": 3,\n        \"samples\": [\n          -0.022261595235370097,\n          1.0,\n          0.0650489631043172\n        ],\n        \"semantic_type\": \"\",\n        \"description\": \"\"\n      }\n    },\n    {\n      \"column\": \"income\",\n      \"properties\": {\n        \"dtype\": \"number\",\n        \"std\": 0.5598370449840981,\n        \"min\": -0.0010038398754361189,\n        \"max\": 1.0,\n        \"num_unique_values\": 3,\n        \"samples\": [\n          -0.0010038398754361189,\n          0.0650489631043172,\n          1.0\n        ],\n        \"semantic_type\": \"\",\n        \"description\": \"\"\n      }\n    }\n  ]\n}"
            }
          },
          "metadata": {},
          "execution_count": 7
        }
      ]
    },
    {
      "cell_type": "code",
      "source": [
        "data.isna().sum()"
      ],
      "metadata": {
        "colab": {
          "base_uri": "https://localhost:8080/"
        },
        "id": "m0GNNVeIjxfp",
        "outputId": "2cd61d4e-f5ca-4ea6-d799-87bdad9ffc45"
      },
      "execution_count": 8,
      "outputs": [
        {
          "output_type": "execute_result",
          "data": {
            "text/plain": [
              "age                0\n",
              "status             0\n",
              "sex                0\n",
              "orientation        0\n",
              "body_type       5296\n",
              "diet           24395\n",
              "drinks          2985\n",
              "drugs          14080\n",
              "education       6628\n",
              "ethnicity       5680\n",
              "height             3\n",
              "income             0\n",
              "job             8198\n",
              "last_online        0\n",
              "location           0\n",
              "offspring      35561\n",
              "pets           19921\n",
              "religion       20226\n",
              "sign           11056\n",
              "smokes          5512\n",
              "speaks            50\n",
              "essay0          5488\n",
              "essay1          7572\n",
              "essay2          9638\n",
              "essay3         11476\n",
              "essay4         10537\n",
              "essay5         10850\n",
              "essay6         13771\n",
              "essay7         12451\n",
              "essay8         19225\n",
              "essay9         12603\n",
              "dtype: int64"
            ]
          },
          "metadata": {},
          "execution_count": 8
        }
      ]
    },
    {
      "cell_type": "code",
      "source": [
        "data[\"income\"]=data[\"income\"].replace(-1, 0)"
      ],
      "metadata": {
        "id": "rxW6hZ5Zj1RA"
      },
      "execution_count": 9,
      "outputs": []
    },
    {
      "cell_type": "markdown",
      "source": [
        "Convert non-numeric values to NaN, Removes rows with NaN values, and caps ages above 100 to 100 in the \"Age\" column"
      ],
      "metadata": {
        "id": "MaBPwSbvkCIC"
      }
    },
    {
      "cell_type": "code",
      "source": [
        "data['age'] = pd.to_numeric(data['age'], errors='coerce')\n",
        "\n",
        "data = data.dropna(subset=['age'])\n",
        "\n",
        "data['age'] = data['age'].apply(lambda x: x if x <= 100 else 100)\n",
        "\n",
        "data[\"age\"]"
      ],
      "metadata": {
        "id": "zB920eWWk3GO",
        "outputId": "4d588b7d-f100-4e80-de5b-57c1e2e8e0c4",
        "colab": {
          "base_uri": "https://localhost:8080/"
        }
      },
      "execution_count": 10,
      "outputs": [
        {
          "output_type": "execute_result",
          "data": {
            "text/plain": [
              "0        22\n",
              "1        35\n",
              "2        38\n",
              "3        23\n",
              "4        29\n",
              "         ..\n",
              "59941    59\n",
              "59942    24\n",
              "59943    42\n",
              "59944    27\n",
              "59945    39\n",
              "Name: age, Length: 59946, dtype: int64"
            ]
          },
          "metadata": {},
          "execution_count": 10
        }
      ]
    },
    {
      "cell_type": "markdown",
      "metadata": {
        "id": "7xPQ6dBXDZkS"
      },
      "source": [
        "Map various body type categories to standardized categories by replacing the original categories with the standardized ones then fill any remaining missing values in the \"body_type\" column with 'rather not say' and count the occurrences of each category in the \"body_type\" column to display the distribution of body types.\n",
        "\n",
        "\n",
        "\n"
      ]
    },
    {
      "cell_type": "code",
      "execution_count": 11,
      "metadata": {
        "colab": {
          "base_uri": "https://localhost:8080/"
        },
        "id": "JQwJPjOPGa5J",
        "outputId": "d574d589-784b-4244-da49-64fa74297dac"
      },
      "outputs": [
        {
          "output_type": "execute_result",
          "data": {
            "text/plain": [
              "fit               24530\n",
              "average           15007\n",
              "rather not say    13699\n",
              "curvy              3924\n",
              "thin               1777\n",
              "full figured       1009\n",
              "Name: body_type, dtype: int64"
            ]
          },
          "metadata": {},
          "execution_count": 11
        }
      ],
      "source": [
        "category_mapping = {\n",
        "    'curvy': 'curvy',\n",
        "    'Thin': 'thin', 'skinny': 'thin',\n",
        "    'athletic': 'fit', 'fit': 'fit',\n",
        "    'rather not say': 'rather not say', 'nan': 'rather not say',\n",
        "    'Overweight': 'Overweight',\n",
        "    'used up': 'average', 'average': 'average',\n",
        "    'Jacked': 'jacked',\n",
        "    'A little extra': 'A little extra',\n",
        "    'full figured': 'full figured'\n",
        "}\n",
        "\n",
        "data['body_type'] = data['body_type'].map(category_mapping)\n",
        "\n",
        "data['body_type'] = data['body_type'].fillna('rather not say')\n",
        "\n",
        "data['body_type'].value_counts()"
      ]
    },
    {
      "cell_type": "markdown",
      "metadata": {
        "id": "_XvGzd4WG8nX"
      },
      "source": [
        "Map various diet categories to standardized categories by replacing the original categories with the standardized ones then fill any remaining missing values in the \"diet\" column with 'Prefer not to say' and count the occurrences of each category in the \"diet\" column to display the distribution of diets."
      ]
    },
    {
      "cell_type": "code",
      "execution_count": 12,
      "metadata": {
        "colab": {
          "base_uri": "https://localhost:8080/"
        },
        "id": "oTHVQC16Iw1A",
        "outputId": "58afb521-5feb-4738-e80f-9e62355ea408"
      },
      "outputs": [
        {
          "output_type": "execute_result",
          "data": {
            "text/plain": [
              "Prefer not to say    54066\n",
              "vegetarian            4986\n",
              "vegan                  702\n",
              "kosher                 115\n",
              "halal                   77\n",
              "Name: diet, dtype: int64"
            ]
          },
          "metadata": {},
          "execution_count": 12
        }
      ],
      "source": [
        "diet_mapping = {\n",
        "    'strictly vegetarian': 'vegetarian',\n",
        "    'vegetarian': 'vegetarian',\n",
        "    'mostly vegetarian': 'vegetarian',\n",
        "    'strictly anything': 'Prefer not to say',\n",
        "    'anything': 'Prefer not to say',\n",
        "    'mostly anything': 'Prefer not to say',\n",
        "    'mostly other': 'Prefer not to say',\n",
        "    'strictly other': 'Prefer not to say',\n",
        "    'other': 'Prefer not to say',\n",
        "    'strictly vegan': 'vegan',\n",
        "    'mostly vegan': 'vegan',\n",
        "    'vegan': 'vegan',\n",
        "    'strictly halal': 'halal',\n",
        "    'halal': 'halal',\n",
        "    'mostly halal': 'halal',\n",
        "    'strictly kosher': 'kosher',\n",
        "    'kosher': 'kosher',\n",
        "    'mostly kosher': 'kosher'\n",
        "}\n",
        "\n",
        "data['diet'] = data['diet'].map(diet_mapping)\n",
        "\n",
        "data['diet'].fillna('Prefer not to say', inplace=True)\n",
        "\n",
        "data['diet'].value_counts()"
      ]
    },
    {
      "cell_type": "markdown",
      "metadata": {
        "id": "fBO7_CRwJGUG"
      },
      "source": [
        "Fill missing values with 'prefer not to say'. Then, it counts the occurrences of each category in the \"drinks\" column to display the distribution of drink preferences."
      ]
    },
    {
      "cell_type": "code",
      "execution_count": 13,
      "metadata": {
        "colab": {
          "base_uri": "https://localhost:8080/"
        },
        "id": "3bq71G0EJzCO",
        "outputId": "198c710e-743d-44ce-af6c-0bbef15a8c80"
      },
      "outputs": [
        {
          "output_type": "execute_result",
          "data": {
            "text/plain": [
              "socially             41780\n",
              "rarely                5957\n",
              "often                 5164\n",
              "not at all            3267\n",
              "prefer not to say     2985\n",
              "very often             471\n",
              "desperately            322\n",
              "Name: drinks, dtype: int64"
            ]
          },
          "metadata": {},
          "execution_count": 13
        }
      ],
      "source": [
        "data['drinks'].fillna('prefer not to say', inplace=True)\n",
        "data['drinks'].value_counts()"
      ]
    },
    {
      "cell_type": "markdown",
      "metadata": {
        "id": "rDUEV6TIJgyR"
      },
      "source": [
        "Fill missing values with 'prefer not to say'. Then, it counts the occurrences of each category in the \"drugs\" column to display the distribution of drug preferences."
      ]
    },
    {
      "cell_type": "code",
      "execution_count": 14,
      "metadata": {
        "colab": {
          "base_uri": "https://localhost:8080/"
        },
        "id": "ajV53fapLLcp",
        "outputId": "67d3a498-811c-4812-f333-a104d8cf17b4"
      },
      "outputs": [
        {
          "output_type": "execute_result",
          "data": {
            "text/plain": [
              "never                37724\n",
              "prefer not to say    14080\n",
              "sometimes             7732\n",
              "often                  410\n",
              "Name: drugs, dtype: int64"
            ]
          },
          "metadata": {},
          "execution_count": 14
        }
      ],
      "source": [
        "data['drugs'].fillna('prefer not to say', inplace=True)\n",
        "data['drugs'].value_counts()"
      ]
    },
    {
      "cell_type": "markdown",
      "metadata": {
        "id": "ke7GZffGJyCO"
      },
      "source": [
        "Map various education categories to standardized categories by replacing the original categories with the standardized ones then fill any remaining missing values in the \"education\" column with 'Prefer not to say' and count the occurrences of each category in the \"education\" column to display the distribution of education."
      ]
    },
    {
      "cell_type": "code",
      "source": [
        "education_mapping = {\n",
        "    'working on high school': 'In high school',\n",
        "    'high school': 'In high school',\n",
        "    'working on college/university': 'In college',\n",
        "    'working on two-year college': 'In college',\n",
        "    'college/university': 'In college',\n",
        "    'two-year college': 'In college',\n",
        "    'working on med school': 'In college',\n",
        "    'med school': 'In college',\n",
        "    'law school': 'In college',\n",
        "    'working on law school': 'In college',\n",
        "    'working on masters program': 'In grad school',\n",
        "    'masters program': 'In grad school',\n",
        "    'graduated from high school': 'High school degree',\n",
        "    'graduated from college/university': 'College degree',\n",
        "    'graduated from two-year college': 'College degree',\n",
        "    'graduated from med school': 'College degree',\n",
        "    'graduated from law school': 'College degree',\n",
        "    'graduated from masters program': 'Graduate degree',\n",
        "    'ph.d program': 'PHD',\n",
        "    'working on ph.d program': 'PHD',\n",
        "    'graduated from ph.d program': 'PHD title',\n",
        "    'dropped out of ph.d program': 'PHD dropout',\n",
        "    'dropped out of med school': 'Dropped out of high school',\n",
        "    'dropped out of high school': 'Dropped out of high school',\n",
        "    'dropped out of college/university': 'Dropped out of college',\n",
        "    'dropped out of two-year college': 'Dropped out of college',\n",
        "    'dropped out of law school': 'Dropped out of college',\n",
        "    'dropped out of masters program': 'Dropped out of grad school',\n",
        "    'working on space camp': 'In space camp',\n",
        "    'space camp': 'In space camp',\n",
        "    'graduated from space camp': 'Graduated from space camp',\n",
        "    'dropped out of space camp': 'Dropped out of space camp'\n",
        "}\n",
        "\n",
        "data['education'] = data['education'].map(education_mapping)\n",
        "\n",
        "data['education'].fillna('Prefer not to say', inplace=True)\n",
        "\n",
        "data['education'].value_counts()"
      ],
      "metadata": {
        "id": "QO1sNFhJltkK",
        "outputId": "1397a4d5-274f-48ea-b617-b3ebb1fbeeab",
        "colab": {
          "base_uri": "https://localhost:8080/"
        }
      },
      "execution_count": 15,
      "outputs": [
        {
          "output_type": "execute_result",
          "data": {
            "text/plain": [
              "College degree                27058\n",
              "Graduate degree                8961\n",
              "In college                     8320\n",
              "Prefer not to say              6628\n",
              "In grad school                 1819\n",
              "High school degree             1428\n",
              "PHD title                      1272\n",
              "Dropped out of college         1204\n",
              "PHD                            1009\n",
              "Graduated from space camp       657\n",
              "Dropped out of space camp       523\n",
              "In space camp                   503\n",
              "In high school                  183\n",
              "Dropped out of grad school      140\n",
              "PHD dropout                     127\n",
              "Dropped out of high school      114\n",
              "Name: education, dtype: int64"
            ]
          },
          "metadata": {},
          "execution_count": 15
        }
      ]
    },
    {
      "cell_type": "markdown",
      "source": [
        "Fill missing values with 'prefer not to say'. Then, it counts the occurrences of each category in the \"ethnicity\" column to display the distribution of ethnicity preferences."
      ],
      "metadata": {
        "id": "q6xnjFYNmUqB"
      }
    },
    {
      "cell_type": "code",
      "source": [
        "data['ethnicity'].fillna('prefer not to say', inplace=True)\n",
        "data['ethnicity'].value_counts()"
      ],
      "metadata": {
        "id": "STwKVDACmVj5",
        "outputId": "484b6022-787e-4421-d114-9d751ce17710",
        "colab": {
          "base_uri": "https://localhost:8080/"
        }
      },
      "execution_count": 16,
      "outputs": [
        {
          "output_type": "execute_result",
          "data": {
            "text/plain": [
              "white                                                                 32831\n",
              "asian                                                                  6134\n",
              "prefer not to say                                                      5680\n",
              "hispanic / latin                                                       2823\n",
              "black                                                                  2008\n",
              "                                                                      ...  \n",
              "middle eastern, indian, white                                             1\n",
              "asian, middle eastern, black, white, other                                1\n",
              "asian, middle eastern, indian, hispanic / latin, white, other             1\n",
              "black, native american, indian, pacific islander, hispanic / latin        1\n",
              "asian, black, indian                                                      1\n",
              "Name: ethnicity, Length: 218, dtype: int64"
            ]
          },
          "metadata": {},
          "execution_count": 16
        }
      ]
    },
    {
      "cell_type": "markdown",
      "source": [
        " Handle missing values in the \"height\" column by filling them with the median height value."
      ],
      "metadata": {
        "id": "zC6ICiWMmYuR"
      }
    }
  ]
}